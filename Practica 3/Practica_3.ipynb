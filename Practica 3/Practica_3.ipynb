{
  "nbformat": 4,
  "nbformat_minor": 0,
  "metadata": {
    "colab": {
      "provenance": []
    },
    "kernelspec": {
      "name": "python3",
      "display_name": "Python 3"
    },
    "language_info": {
      "name": "python"
    }
  },
  "cells": [
    {
      "cell_type": "code",
      "execution_count": null,
      "metadata": {
        "id": "ofpdEnQOpqRH"
      },
      "outputs": [],
      "source": [
        "import tensorflow as tf\n",
        "import cv2\n",
        "from tensorflow.keras import layers, models\n",
        "from tensorflow.keras.datasets import mnist\n",
        "from tensorflow.keras.utils import to_categorical\n",
        "from tensorflow.keras.models import load_model\n",
        "import numpy as np"
      ]
    },
    {
      "cell_type": "code",
      "source": [
        "# Cargar el conjunto de datos MNIST\n",
        "(train_images, train_labels), (test_images, test_labels) = mnist.load_data()"
      ],
      "metadata": {
        "id": "ajuKCi-YpsnZ"
      },
      "execution_count": null,
      "outputs": []
    },
    {
      "cell_type": "code",
      "source": [
        "# Preprocesar los datos\n",
        "train_images = train_images.reshape((60000, 28, 28, 1)).astype('float32') / 255\n",
        "test_images = test_images.reshape((10000, 28, 28, 1)).astype('float32') / 255\n",
        "\n",
        "train_labels = to_categorical(train_labels)\n",
        "test_labels = to_categorical(test_labels)"
      ],
      "metadata": {
        "id": "Z9GgWAAHp22J"
      },
      "execution_count": null,
      "outputs": []
    },
    {
      "cell_type": "code",
      "source": [
        "# Construir el modelo de la red neuronal\n",
        "model = models.Sequential()\n",
        "model.add(layers.Conv2D(32, (3, 3), activation='relu', input_shape=(28, 28, 1)))\n",
        "model.add(layers.MaxPooling2D((2, 2)))\n",
        "model.add(layers.Conv2D(64, (3, 3), activation='relu'))\n",
        "model.add(layers.MaxPooling2D((2, 2)))\n",
        "model.add(layers.Conv2D(64, (3, 3), activation='relu'))\n",
        "model.add(layers.Flatten())\n",
        "model.add(layers.Dense(64, activation='relu'))\n",
        "model.add(layers.Dense(10, activation='softmax'))"
      ],
      "metadata": {
        "id": "yxe3x-zxp5Au"
      },
      "execution_count": null,
      "outputs": []
    },
    {
      "cell_type": "code",
      "source": [
        "# Compilar el modelo\n",
        "model.compile(optimizer='adam',\n",
        "              loss='categorical_crossentropy',\n",
        "              metrics=['accuracy'])\n"
      ],
      "metadata": {
        "id": "GYdCdezgp7Qx"
      },
      "execution_count": null,
      "outputs": []
    },
    {
      "cell_type": "code",
      "source": [
        "# Entrenar el modelo\n",
        "model.fit(train_images, train_labels, epochs=5, batch_size=64, validation_data=(test_images, test_labels))"
      ],
      "metadata": {
        "colab": {
          "base_uri": "https://localhost:8080/"
        },
        "id": "mGr6SmzKp8Tz",
        "outputId": "655ba1d7-ed25-423b-f1cc-7b8c6258f9dc"
      },
      "execution_count": null,
      "outputs": [
        {
          "output_type": "stream",
          "name": "stdout",
          "text": [
            "Epoch 1/5\n",
            "938/938 [==============================] - 62s 65ms/step - loss: 0.1802 - accuracy: 0.9455 - val_loss: 0.0537 - val_accuracy: 0.9832\n",
            "Epoch 2/5\n",
            "938/938 [==============================] - 57s 61ms/step - loss: 0.0512 - accuracy: 0.9838 - val_loss: 0.0326 - val_accuracy: 0.9896\n",
            "Epoch 3/5\n",
            "938/938 [==============================] - 57s 61ms/step - loss: 0.0364 - accuracy: 0.9884 - val_loss: 0.0356 - val_accuracy: 0.9890\n",
            "Epoch 4/5\n",
            "938/938 [==============================] - 57s 60ms/step - loss: 0.0270 - accuracy: 0.9913 - val_loss: 0.0317 - val_accuracy: 0.9898\n",
            "Epoch 5/5\n",
            "938/938 [==============================] - 64s 68ms/step - loss: 0.0231 - accuracy: 0.9923 - val_loss: 0.0355 - val_accuracy: 0.9881\n"
          ]
        },
        {
          "output_type": "execute_result",
          "data": {
            "text/plain": [
              "<keras.src.callbacks.History at 0x793d4d6caf80>"
            ]
          },
          "metadata": {},
          "execution_count": 34
        }
      ]
    },
    {
      "cell_type": "code",
      "source": [
        "# Guardar el modelo entrenado\n",
        "model.save('modelo_nn.h5')"
      ],
      "metadata": {
        "colab": {
          "base_uri": "https://localhost:8080/"
        },
        "id": "SA6FuGdhqY6p",
        "outputId": "3a56d849-964a-4542-b633-24b93bc10a2e"
      },
      "execution_count": null,
      "outputs": [
        {
          "output_type": "stream",
          "name": "stderr",
          "text": [
            "/usr/local/lib/python3.10/dist-packages/keras/src/engine/training.py:3079: UserWarning: You are saving your model as an HDF5 file via `model.save()`. This file format is considered legacy. We recommend using instead the native Keras format, e.g. `model.save('my_model.keras')`.\n",
            "  saving_api.save_model(\n"
          ]
        }
      ]
    },
    {
      "cell_type": "code",
      "source": [
        "# Conectar a Google Drive\n",
        "from google.colab import drive\n",
        "drive.mount('/content/drive')"
      ],
      "metadata": {
        "colab": {
          "base_uri": "https://localhost:8080/"
        },
        "id": "hzWcW1OQs8Ty",
        "outputId": "7294903b-c56c-4f3e-c857-e83ec693b99b"
      },
      "execution_count": null,
      "outputs": [
        {
          "output_type": "stream",
          "name": "stdout",
          "text": [
            "Drive already mounted at /content/drive; to attempt to forcibly remount, call drive.mount(\"/content/drive\", force_remount=True).\n"
          ]
        }
      ]
    },
    {
      "cell_type": "code",
      "source": [
        "# Cargar el modelo entrenado\n",
        "model = load_model('modelo_nn.h5')\n",
        "\n",
        "# Cargar una nueva imagen para probar (reemplaza 'ruta_de_la_imagen' con la ruta real de tu imagen)\n",
        "image_path = 'ruta_de_la_imagen'\n",
        "original_image = cv2.imread('/content/drive/MyDrive/Colab Notebooks/20172F112F152F132F132F272F3fbc3e4a-0096-4a85-9b50-9fe32a37f2412F8.png',\n",
        "                            cv2.IMREAD_GRAYSCALE)\n",
        "\n",
        "# Cambiar el tamaño de la imagen a 28x28 píxeles\n",
        "resized_image = cv2.resize(original_image, (28, 28))\n",
        "\n",
        "# Normalizar la imagen\n",
        "normalized_image = resized_image.astype('float32') / 255.0\n",
        "\n",
        "# Reshape para que coincida con la entrada de la red neuronal\n",
        "input_image = normalized_image.reshape((1, 28, 28, 1))\n",
        "\n",
        "# Obtener la predicción del modelo\n",
        "prediction = model.predict(input_image)\n",
        "\n",
        "# La predicción es un array de probabilidades para cada clase\n",
        "# Puedes obtener la clase predicha usando argmax\n",
        "predicted_class = np.argmax(prediction)\n",
        "\n",
        "print(f'Predicción de la clase: {predicted_class}')"
      ],
      "metadata": {
        "colab": {
          "base_uri": "https://localhost:8080/"
        },
        "id": "QNsS37toreFT",
        "outputId": "cc57b849-4cd5-4275-ebf0-bb74af79bf65"
      },
      "execution_count": null,
      "outputs": [
        {
          "output_type": "stream",
          "name": "stdout",
          "text": [
            "1/1 [==============================] - 0s 79ms/step\n",
            "Predicción de la clase: 8\n"
          ]
        }
      ]
    }
  ]
}